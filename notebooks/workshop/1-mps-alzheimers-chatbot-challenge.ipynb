{
 "cells": [
  {
   "cell_type": "markdown",
   "metadata": {},
   "source": [
    "# Um Chatbot para conversa sobre Alzheimer"
   ]
  },
  {
   "cell_type": "markdown",
   "metadata": {},
   "source": [
    "### Importar bibliotecas e configurar ambiente"
   ]
  },
  {
   "cell_type": "code",
   "execution_count": 1,
   "metadata": {},
   "outputs": [],
   "source": [
    "import os\n",
    "import time\n",
    "import dotenv\n",
    "from IPython.display import Image\n",
    "\n",
    "import operator\n",
    "from typing import Annotated, TypedDict\n",
    "\n",
    "from langchain_openai import ChatOpenAI\n",
    "from langgraph.graph import StateGraph, START, END\n",
    "from langgraph.checkpoint.memory import MemorySaver\n",
    "from langchain_core.messages import AnyMessage, SystemMessage, HumanMessage, ToolMessage\n",
    "from langchain_community.tools.tavily_search import TavilySearchResults"
   ]
  },
  {
   "cell_type": "code",
   "execution_count": 2,
   "metadata": {},
   "outputs": [
    {
     "name": "stdout",
     "output_type": "stream",
     "text": [
      "Is env variables loaded? True\n"
     ]
    }
   ],
   "source": [
    "# Set up env variables\n",
    "print(\"Is env variables loaded?\", dotenv.load_dotenv(\".env\"))"
   ]
  },
  {
   "cell_type": "markdown",
   "metadata": {},
   "source": [
    "### Criar Agente"
   ]
  },
  {
   "cell_type": "markdown",
   "metadata": {},
   "source": [
    "#### 1. Definir o Estado do Grafo\n",
    "\n",
    "A seguir definimos o estado do grafo. Há diversas formas de fazer isso. Aqui, criaremos uma classe do tipo `TypedDict` que possui um atributo `messages`. \n",
    "\n",
    "No fluxo padrão de um grafo do LangGraph, os atributos do estado são sobrescritos. Porém, em nosso chatbot, queremos guardar todas as mensagens. Por isso, anotamos o atributo *messages* com o **reducer** `operator.add`, o qual faz o append de novas mensagens, ao invés de sobrescrever.\n",
    "\n",
    "Ao invés de definirmos o estado manualmente, neste caso, poderíamos utilizar como alternativa a classe `MessagesState`, que também define um estado com um atributo *messages* que é expandido ao longo da interação: `from langgraph.graph import MessagesState`."
   ]
  },
  {
   "cell_type": "code",
   "execution_count": 3,
   "metadata": {},
   "outputs": [],
   "source": [
    "class AgentState(TypedDict):\n",
    "    messages: Annotated[list[AnyMessage], operator.add]"
   ]
  },
  {
   "cell_type": "markdown",
   "metadata": {},
   "source": [
    "#### 2. Criar Grafo\n",
    "\n",
    "A seguir, seguimos nossa receita de construção de um agente com LangGraph, definindo e criando nós, arestas e o grafo do fluxo de controle. Colocamos todos esses passos dentro de uma classe `ChatbotAlzheimer`. Porém, poderíamos ter adotado outras abordagens.\n",
    "\n",
    "Em cada etapa da construção do grafo, poderíamos ter adotado diferentes estratégias. As apresentadas a seguir são apenas uma das formas de fazermos as coisas. Algumas observações adicionais são:\n",
    "\n",
    "1. Na definição do nó de tools (`tools_node`), ao invés de termos criado manualmente, poderíamos ter utilizado a classe `ToolNode`, que é uma classe built-in do LangGraph que sabe executar as tools chamadas na última AIMessage. Sua lógica é semelhante à implementação que realizamos.\n",
    "    - `from langgraph.prebuilt import ToolNode`\n",
    "2. Na definição da aresta conditional (`tools_conditional_edge`) também poderíamos ter utilizado uma função built-in do LangGraph, chamada `tools_condition`, que encaminha o fluxo para o nó de tools (neste caso ele precisa se chamar `tools`) ou para o nó END, a depender da última mensagem da IA."
   ]
  },
  {
   "cell_type": "code",
   "execution_count": 4,
   "metadata": {},
   "outputs": [],
   "source": [
    "class ChatbotAlzheimer:\n",
    "\n",
    "    def __init__(self, model_name, tools, checkpointer, playground_with_tools = False, playground_with_memory = False):\n",
    "        self.chat_model = ChatOpenAI(model=model_name, temperature=0)\n",
    "        self.tools_dict = {t.name: t for t in tools}\n",
    "        \n",
    "        if playground_with_tools:\n",
    "            self.chat_model = self.chat_model.bind_tools(tools=tools)\n",
    "        \n",
    "        if playground_with_memory:\n",
    "            self.agent_graph = self.create_graph(checkpointer=checkpointer)\n",
    "        else:\n",
    "            self.agent_graph = self.create_graph(checkpointer=None)\n",
    "    \n",
    "    # 2. Define the nodes\n",
    "    def chat_node(self, state: AgentState):\n",
    "        system_prompt = (\"Você é um chatbot especializado em responder perguntas sobre Alzheimer.\"\n",
    "                        \" Caso não saiba responder à pergunta, não invente uma resposta, mas utilize alguma das tools ({0}) para buscar informações relevantes.\"\n",
    "                        \" Se tiver buscado por informações relevantes, utilize os conteúdos retornados para te ajudar a responder\")\n",
    "        \n",
    "        system_prompt = system_prompt.format(\",\".join(self.tools_dict.keys()))\n",
    "        system_message = SystemMessage(content=system_prompt)\n",
    "        model_input = [system_message] + state[\"messages\"]\n",
    "        \n",
    "        response = self.chat_model.invoke(input = model_input)\n",
    "\n",
    "        return {\"messages\": [response]}\n",
    "    \n",
    "    def tools_node(self, state: AgentState):\n",
    "        result = []\n",
    "\n",
    "        for tool_call in state[\"messages\"][-1].tool_calls:\n",
    "            tool = self.tools_dict[tool_call[\"name\"]]\n",
    "            observation = tool.invoke(tool_call[\"args\"])\n",
    "            result.append(ToolMessage(content=str(observation), tool_call_id = tool_call[\"id\"], name=tool_call[\"name\"]))\n",
    "        \n",
    "        return {\"messages\": result}\n",
    "    \n",
    "    # 3. Define conditional edges\n",
    "    def tools_conditional_edge(self, state: AgentState):\n",
    "        last_message = state[\"messages\"][-1]\n",
    "\n",
    "        if last_message.tool_calls:\n",
    "            return \"tools_node\"\n",
    "        else:\n",
    "            return END\n",
    "    \n",
    "    # 4. Put all things together\n",
    "    def create_graph(self, checkpointer):\n",
    "        # 4.1. Instantiate a graph control workflow from the defined State\n",
    "        graph_workflow = StateGraph(AgentState)\n",
    "        # 4.2. Create the nodes\n",
    "        graph_workflow.add_node(\"chat_node\", self.chat_node)\n",
    "        graph_workflow.add_node(\"tools_node\", self.tools_node)\n",
    "        # 4.3. Create the edges\n",
    "        graph_workflow.add_edge(START, \"chat_node\")\n",
    "        graph_workflow.add_conditional_edges(\n",
    "            source=\"chat_node\",\n",
    "            path=self.tools_conditional_edge\n",
    "        )\n",
    "        graph_workflow.add_edge(\"tools_node\", \"chat_node\")\n",
    "        # 4.4. Compile the graph\n",
    "        graph_workflow = graph_workflow.compile(checkpointer=checkpointer)\n",
    "\n",
    "        return graph_workflow"
   ]
  },
  {
   "cell_type": "markdown",
   "metadata": {},
   "source": [
    "### Brincando com o chat"
   ]
  },
  {
   "cell_type": "markdown",
   "metadata": {},
   "source": [
    "#### Definindo elementos básicos"
   ]
  },
  {
   "cell_type": "code",
   "execution_count": 5,
   "metadata": {},
   "outputs": [],
   "source": [
    "def print_messages(messages):\n",
    "    for msg in messages:\n",
    "        msg.pretty_print()"
   ]
  },
  {
   "cell_type": "code",
   "execution_count": 6,
   "metadata": {},
   "outputs": [],
   "source": [
    "def chatbot_loop(chatbot, config=None):\n",
    "    user_input = \"\"\n",
    "\n",
    "    while True:\n",
    "        user_input = input(\"Typing: \")\n",
    "\n",
    "        if user_input == \"END\":\n",
    "            break\n",
    "        \n",
    "        user_input = [HumanMessage(content=user_input, name=\"User\")]\n",
    "        \n",
    "        if not config:\n",
    "            response = chatbot.invoke(input={\"messages\": user_input})\n",
    "        else:\n",
    "            response = chatbot.invoke(input={\"messages\": user_input}, config=config)\n",
    "\n",
    "        time.sleep(3)\n",
    "\n",
    "        print_messages(response[\"messages\"])\n",
    "        print(\"***\"*35)\n"
   ]
  },
  {
   "cell_type": "markdown",
   "metadata": {},
   "source": [
    "Como tool, vamos o [Tavily](https://tavily.com/), que é um motor de busca/API otimizada para LLMs e RAG. Uma de suas principais diferenças em relação às técnicas usuais de buscas na web é que ela abstrai toda a complexidade de:\n",
    "1. Procurar links com informações relevantes para nossa pergunta.\n",
    "2. Extrair as informações desses links.\n",
    "3. Selecionar informações mais relevantes.\n",
    "4. Apresentar o conteúdo.\n",
    "\n",
    "Assim, ele nos retorna o conteúdo no formato ideal para ser utilizado pela LLM, assim como alguns metadados.\n",
    "\n",
    "Outro ponto a se destacar aqui é que, neste exemplo, utilizamos o `MemorySaver`como nosso checkpointer. Ele nos permite salvar os estados do nosso grafo em memória. Porém, tanto o LangChain como o LangGraph fornecem outras alternativas para persistirmos nosso grafo, inclusive de maneira mais duradoura, como banco SQLite, MongoDB, etc."
   ]
  },
  {
   "cell_type": "code",
   "execution_count": 7,
   "metadata": {},
   "outputs": [],
   "source": [
    "model_name = \"gpt-3.5-turbo\"\n",
    "tavily_tool = TavilySearchResults(max_results=4)\n",
    "checkpointer = MemorySaver()"
   ]
  },
  {
   "cell_type": "markdown",
   "metadata": {},
   "source": [
    "#### Playground 1: Chatbot sem tools e sem memória"
   ]
  },
  {
   "cell_type": "code",
   "execution_count": 10,
   "metadata": {},
   "outputs": [
    {
     "data": {
      "image/jpeg": "[encoded data removed]",
      "text/plain": [
       "<IPython.core.display.Image object>"
      ]
     },
     "metadata": {},
     "output_type": "display_data"
    }
   ],
   "source": [
    "chatbot_no_tool_no_mem = ChatbotAlzheimer(model_name=model_name, tools=[tavily_tool], checkpointer=checkpointer,\n",
    "                                          playground_with_tools=False, playground_with_memory=False)\n",
    "\n",
    "display(Image(chatbot_no_tool_no_mem.agent_graph.get_graph().draw_mermaid_png()))"
   ]
  },
  {
   "cell_type": "code",
   "execution_count": 11,
   "metadata": {},
   "outputs": [
    {
     "name": "stdin",
     "output_type": "stream",
     "text": [
      "Typing:  Oi, meu nome é Marianna. Tudo bem?\n"
     ]
    },
    {
     "name": "stdout",
     "output_type": "stream",
     "text": [
      "================================\u001b[1m Human Message \u001b[0m=================================\n",
      "Name: User\n",
      "\n",
      "Oi, meu nome é Marianna. Tudo bem?\n",
      "==================================\u001b[1m Ai Message \u001b[0m==================================\n",
      "\n",
      "Olá, Marianna! Tudo bem sim, obrigado por perguntar. Como posso te ajudar hoje?\n",
      "*********************************************************************************************************\n"
     ]
    },
    {
     "name": "stdin",
     "output_type": "stream",
     "text": [
      "Typing:  O que é o Alzheimer?\n"
     ]
    },
    {
     "name": "stdout",
     "output_type": "stream",
     "text": [
      "================================\u001b[1m Human Message \u001b[0m=================================\n",
      "Name: User\n",
      "\n",
      "O que é o Alzheimer?\n",
      "==================================\u001b[1m Ai Message \u001b[0m==================================\n",
      "\n",
      "O Alzheimer é uma doença neurodegenerativa progressiva que afeta o cérebro, causando problemas de memória, pensamento e comportamento. É a forma mais comum de demência em idosos e geralmente se desenvolve lentamente ao longo do tempo. A doença de Alzheimer afeta a capacidade da pessoa de realizar tarefas cotidianas e pode ter um impacto significativo na qualidade de vida do paciente e de seus familiares.\n",
      "*********************************************************************************************************\n"
     ]
    },
    {
     "name": "stdin",
     "output_type": "stream",
     "text": [
      "Typing:  Qual é o meu nome?\n"
     ]
    },
    {
     "name": "stdout",
     "output_type": "stream",
     "text": [
      "================================\u001b[1m Human Message \u001b[0m=================================\n",
      "Name: User\n",
      "\n",
      "Qual é o meu nome?\n",
      "==================================\u001b[1m Ai Message \u001b[0m==================================\n",
      "\n",
      "Desculpe, mas como sou um assistente virtual, não tenho acesso a informações pessoais sobre você, como seu nome. Posso te ajudar com informações sobre o Alzheimer, se precisar. Como posso ajudar você hoje?\n",
      "*********************************************************************************************************\n"
     ]
    },
    {
     "name": "stdin",
     "output_type": "stream",
     "text": [
      "Typing:  Sobre o que te perguntei anteriormente?\n"
     ]
    },
    {
     "name": "stdout",
     "output_type": "stream",
     "text": [
      "================================\u001b[1m Human Message \u001b[0m=================================\n",
      "Name: User\n",
      "\n",
      "Sobre o que te perguntei anteriormente?\n",
      "==================================\u001b[1m Ai Message \u001b[0m==================================\n",
      "\n",
      "Você me perguntou sobre o Alzheimer. Como posso te ajudar hoje?\n",
      "*********************************************************************************************************\n"
     ]
    },
    {
     "name": "stdin",
     "output_type": "stream",
     "text": [
      "Typing:  END\n"
     ]
    }
   ],
   "source": [
    "chatbot_loop(chatbot=chatbot_no_tool_no_mem.agent_graph, config=None)"
   ]
  },
  {
   "cell_type": "markdown",
   "metadata": {},
   "source": [
    "#### Playground 2: Chatbot com tools e sem memória"
   ]
  },
  {
   "cell_type": "code",
   "execution_count": 12,
   "metadata": {},
   "outputs": [
    {
     "data": {
      "image/jpeg": "[encoded data removed]",
      "text/plain": [
       "<IPython.core.display.Image object>"
      ]
     },
     "metadata": {},
     "output_type": "display_data"
    }
   ],
   "source": [
    "chatbot_no_mem = ChatbotAlzheimer(model_name=model_name, tools=[tavily_tool], checkpointer=checkpointer,\n",
    "                                          playground_with_tools=True, playground_with_memory=False)\n",
    "\n",
    "display(Image(chatbot_no_mem.agent_graph.get_graph().draw_mermaid_png()))"
   ]
  },
  {
   "cell_type": "code",
   "execution_count": 13,
   "metadata": {},
   "outputs": [
    {
     "name": "stdin",
     "output_type": "stream",
     "text": [
      "Typing:  Oi meu nome Marianna. Tudo bem?\n"
     ]
    },
    {
     "name": "stdout",
     "output_type": "stream",
     "text": [
      "================================\u001b[1m Human Message \u001b[0m=================================\n",
      "Name: User\n",
      "\n",
      "Oi meu nome Marianna. Tudo bem?\n",
      "==================================\u001b[1m Ai Message \u001b[0m==================================\n",
      "\n",
      "Olá, Marianna! Estou aqui para ajudar. Como posso te auxiliar hoje?\n",
      "*********************************************************************************************************\n"
     ]
    },
    {
     "name": "stdin",
     "output_type": "stream",
     "text": [
      "Typing:  O que é o Alzheimer?\n"
     ]
    },
    {
     "name": "stdout",
     "output_type": "stream",
     "text": [
      "================================\u001b[1m Human Message \u001b[0m=================================\n",
      "Name: User\n",
      "\n",
      "O que é o Alzheimer?\n",
      "==================================\u001b[1m Ai Message \u001b[0m==================================\n",
      "Tool Calls:\n",
      "  tavily_search_results_json (call_eb7LZump6JttFoBd8YE3w3Ww)\n",
      " Call ID: call_eb7LZump6JttFoBd8YE3w3Ww\n",
      "  Args:\n",
      "    query: O que é o Alzheimer?\n",
      "=================================\u001b[1m Tool Message \u001b[0m=================================\n",
      "Name: tavily_search_results_json\n",
      "\n",
      "[{'url': 'https://www.mdsaude.com/neurologia/mal-alzheimer/', 'content': 'Doença de Alzheimer: O que é, sintomas e tratamento O mal de Alzheimer, também conhecido como doença de Alzheimer, é uma doença degenerativa e progressiva que provoca atrofia do cérebro, levando à demência em pacientes idosos. O mal de Alzheimer é uma doença de lenta e progressiva evolução, que destrói as funções mentais importantes, levando o paciente à demência, um termo usado para indicar que o indivíduo perdeu suas capacidades de raciocínio, julgamento e memória, tornado-o dependente de apoio nas suas atividades diárias. Como não há cura para a doença de Alzheimer, o diagnóstico precoce é importante para se tentar preservar ao máximo as capacidades intelectuais e prolongar a qualidade de vida do paciente e de seus cuidadores.'}, {'url': 'https://alzheimerportugal.org/a-doenca-de-alzheimer/', 'content': 'A Doença de Alzheimer é um tipo de demência que provoca uma deterioração global, progressiva e irreversível de diversas funções cognitivas (memória, atenção, concentração, linguagem, pensamento, entre outras). Esta é a forma mais comum de Doença de Alzheimer e afeta pessoas que podem ter ou não, antecedentes familiares da doença. Mas para além das pessoas que desenvolvem a Doença de Alzheimer Familiar, não se conhece o motivo pelo qual uma pessoa desenvolve a doença e outra não. É importante ter um diagnóstico preciso o mais cedo possível, para determinar se a situação clínica da pessoa é devida à Doença de Alzheimer ou se os sintomas estão a ser causados por outra doença, diferente ou rara, que requeira um tratamento específico.'}, {'url': 'https://www.cuf.pt/saude-a-z/alzheimer', 'content': 'Alzheimer: o que é, sintomas e tratamento | CUF O exame neurológico é tipicamente normal nas fases iniciais da Doença de Alzheimer, tal como os exames de imagem que, se não forem também regulares, mostram apenas atrofia dos hipocampos, formações anatómicas existentes na parte interna dos hemisférios cerebrais que têm um papel fundamental na consolidação e evocação de novas memórias. Teleconsulta 1  Rui Araújo Especialidade Neurologia Hospitais e Clínicas Hospital CUF Porto Áreas de Diferenciação Demência, Doenças neurodegenerativas, Doença de Alzheimer, Défice cognitivo ligeiro, Demência Vascular, Demência frontotemporal, Demência de Corpos de Lewy, Doença de Parkinson, Parkinsonismos atípicos, Tremor Idiomas Inglês O neurologista Martinho Pimenta explica o que é o Alzheimer e como se pode tentar combater os sintomas.'}, {'url': 'https://www.minhavida.com.br/saude/temas/alzheimer', 'content': 'Alzheimer: o que é, sintomas, tratamentos e se é hereditário - Minha Vida Alzheimer: o que é, sintomas, tratamentos e se é hereditário Alzheimer: o que é, sintomas, tratamentos e se é hereditário Outra hipótese é o acúmulo de proteínas no cérebro, mais especificamente a proteína beta-amiloide e a proteína Tau. Esses componentes têm sido observados em abundância no cérebro de pacientes com a doença de Alzheimer, o que causa inflamação e destruição de células neuronais, principalmente nas áreas que correspondem à memória e à execução de tarefas. À medida que a doença de Alzheimer progride para os seus últimos estágios, as alterações cerebrais começam a afetar as funções físicas, como a deglutição, o equilíbrio e o controle do intestino e da bexiga.'}]\n",
      "==================================\u001b[1m Ai Message \u001b[0m==================================\n",
      "\n",
      "A Doença de Alzheimer, também conhecida como mal de Alzheimer, é uma doença degenerativa e progressiva que provoca atrofia do cérebro, levando à demência em pacientes idosos. É uma condição de lenta evolução que destrói funções mentais importantes, levando o paciente à dependência de apoio nas atividades diárias. Não há cura para o Alzheimer, por isso o diagnóstico precoce é essencial para preservar ao máximo as capacidades intelectuais e prolongar a qualidade de vida do paciente e de seus cuidadores.\n",
      "*********************************************************************************************************\n"
     ]
    },
    {
     "name": "stdin",
     "output_type": "stream",
     "text": [
      "Typing:  Quais são os principais sintomas?\n"
     ]
    },
    {
     "name": "stdout",
     "output_type": "stream",
     "text": [
      "================================\u001b[1m Human Message \u001b[0m=================================\n",
      "Name: User\n",
      "\n",
      "Quais são os principais sintomas?\n",
      "==================================\u001b[1m Ai Message \u001b[0m==================================\n",
      "Tool Calls:\n",
      "  tavily_search_results_json (call_6mTWDXKNNMjRxvu5u7WjX8Vw)\n",
      " Call ID: call_6mTWDXKNNMjRxvu5u7WjX8Vw\n",
      "  Args:\n",
      "    query: principais sintomas do Alzheimer\n",
      "=================================\u001b[1m Tool Message \u001b[0m=================================\n",
      "Name: tavily_search_results_json\n",
      "\n",
      "[{'url': 'https://alzheimerportugal.org/10-sinais-de-alerta/', 'content': 'Muitos dos sintomas da Doença de Alzheimer podem ser, também, sintomas de outras doenças como, por exemplo, depressão. Por isso, caso detete alguns destes sinais, consulte o seu médico de família. Esta lista pode ajudá-lo a reconhecer os sinais de alerta da Doença de Alzheimer: 1. Perda de Memória'}, {'url': 'https://www.uol.com.br/vivabem/noticias/redacao/2024/01/24/alzheimer-como-a-doenca-prejudica-o-cerebro-e-quais-os-principais-sintomas.htm', 'content': 'Primeiros sintomas. O cérebro encolhe, literalmente, em algumas áreas. A perda de neurônios, a terceira principal característica do Alzheimer, além do acúmulo de beta-amiloide e de tau, é o que provoca isso. A primeira região afetada é o hipocampo, responsável pela memória e o aprendizado.'}, {'url': 'https://www.tuasaude.com/o-que-e-alzheimer/', 'content': 'Leia também: Alzheimer precoce: o que é, sintomas, causas e tratamento tuasaude.com/alzheimer-precoceAlém disso, na medida em que a doença piora,\\xa0a pessoa tende a ficar cada vez mais dependente dos familiares e\\xa0podem surgir outros sintomas como alterações no comportamento, alucinações, dificuldade para se movimentar e crises convulsivas. O diagnóstico da doença de Alzheimer é feito pelo neurologista levando em consideração os sintomas e o resultado de testes e/ou exames, como a avaliação neuropsicológica e ressonância magnética. O tratamento da doença de Alzheimer normalmente é feito com medicamentos para aliviar os sintomas e atrasar a evolução da doença, como a donepezila, galantamina e rivastigmina, que devem ser usados de acordo com a orientação do neurologista.'}, {'url': 'https://www.mdsaude.com/neurologia/sintomas-da-doenca-de-alzheimer/', 'content': 'Por ser uma doença de lenta evolução e com sinais e sintomas iniciais que podem ser facilmente confundidos com o processo natural de envelhecimento, muitos pacientes demoram, às vezes anos, para ter o diagnóstico do seu Alzheimer estabelecido. O paciente com Alzheimer perde objetos pessoais com facilidade, não só porque ele não se lembra onde os guardou, mas também porque é comum que objetos sejam guardados em locais bizarros, como, por exemplo, deixar\\xa0a chave do carro dentro da geladeira. Quando o\\xa0paciente começa a apresentar os sinais e sintomas da doença de Alzheimer, mas ainda é capaz de reconhecer que algo está errado com as suas funções\\xa0intelectuais, ele pode começar a agir de forma defensiva, tendendo a se\\xa0afastar de familiares e eventos sociais.'}]\n",
      "==================================\u001b[1m Ai Message \u001b[0m==================================\n",
      "\n",
      "Os principais sintomas do Alzheimer incluem perda de memória, encolhimento do cérebro em áreas específicas, perda de neurônios, acúmulo de beta-amiloide e tau, alterações no comportamento, alucinações, dificuldade para se movimentar, crises convulsivas, perda de objetos pessoais, confusão na organização de tarefas diárias e afastamento de familiares e eventos sociais. É importante consultar um médico para um diagnóstico preciso e tratamento adequado.\n",
      "*********************************************************************************************************\n"
     ]
    },
    {
     "name": "stdin",
     "output_type": "stream",
     "text": [
      "Typing:  Qual é o meu nome?\n"
     ]
    },
    {
     "name": "stdout",
     "output_type": "stream",
     "text": [
      "================================\u001b[1m Human Message \u001b[0m=================================\n",
      "Name: User\n",
      "\n",
      "Qual é o meu nome?\n",
      "==================================\u001b[1m Ai Message \u001b[0m==================================\n",
      "\n",
      "Desculpe, mas não tenho essa informação. Como posso te ajudar com informações sobre Alzheimer hoje?\n",
      "*********************************************************************************************************\n"
     ]
    },
    {
     "name": "stdin",
     "output_type": "stream",
     "text": [
      "Typing:  Sobre o que eu te perguntei anteriormente?\n"
     ]
    },
    {
     "name": "stdout",
     "output_type": "stream",
     "text": [
      "================================\u001b[1m Human Message \u001b[0m=================================\n",
      "Name: User\n",
      "\n",
      "Sobre o que eu te perguntei anteriormente?\n",
      "==================================\u001b[1m Ai Message \u001b[0m==================================\n",
      "\n",
      "Você me pediu para responder perguntas sobre o Alzheimer. Como posso te ajudar hoje?\n",
      "*********************************************************************************************************\n"
     ]
    },
    {
     "name": "stdin",
     "output_type": "stream",
     "text": [
      "Typing:  END\n"
     ]
    }
   ],
   "source": [
    "chatbot_loop(chatbot=chatbot_no_mem.agent_graph, config=None)"
   ]
  },
  {
   "cell_type": "markdown",
   "metadata": {},
   "source": [
    "#### Playground 3: Chatbot com tools e com memória"
   ]
  },
  {
   "cell_type": "code",
   "execution_count": 14,
   "metadata": {},
   "outputs": [
    {
     "data": {
      "image/jpeg": "[encoded data removed]",
      "text/plain": [
       "<IPython.core.display.Image object>"
      ]
     },
     "metadata": {},
     "output_type": "display_data"
    }
   ],
   "source": [
    "chatbot_complete = ChatbotAlzheimer(model_name=model_name, tools=[tavily_tool], checkpointer=checkpointer,\n",
    "                                          playground_with_tools=True, playground_with_memory=True)\n",
    "\n",
    "display(Image(chatbot_complete.agent_graph.get_graph().draw_mermaid_png()))"
   ]
  },
  {
   "cell_type": "code",
   "execution_count": 15,
   "metadata": {},
   "outputs": [
    {
     "name": "stdin",
     "output_type": "stream",
     "text": [
      "Typing:  Oi, meu nome é Marianna. Tudo bem?\n"
     ]
    },
    {
     "name": "stdout",
     "output_type": "stream",
     "text": [
      "================================\u001b[1m Human Message \u001b[0m=================================\n",
      "Name: User\n",
      "\n",
      "Oi, meu nome é Marianna. Tudo bem?\n",
      "==================================\u001b[1m Ai Message \u001b[0m==================================\n",
      "\n",
      "Olá, Marianna! Estou aqui para ajudar. Como posso te auxiliar hoje?\n",
      "*********************************************************************************************************\n"
     ]
    },
    {
     "name": "stdin",
     "output_type": "stream",
     "text": [
      "Typing:  Qual é o meu nome?\n"
     ]
    },
    {
     "name": "stdout",
     "output_type": "stream",
     "text": [
      "================================\u001b[1m Human Message \u001b[0m=================================\n",
      "Name: User\n",
      "\n",
      "Oi, meu nome é Marianna. Tudo bem?\n",
      "==================================\u001b[1m Ai Message \u001b[0m==================================\n",
      "\n",
      "Olá, Marianna! Estou aqui para ajudar. Como posso te auxiliar hoje?\n",
      "================================\u001b[1m Human Message \u001b[0m=================================\n",
      "Name: User\n",
      "\n",
      "Qual é o meu nome?\n",
      "==================================\u001b[1m Ai Message \u001b[0m==================================\n",
      "\n",
      "Seu nome é Marianna. Como posso te ajudar hoje, Marianna?\n",
      "*********************************************************************************************************\n"
     ]
    },
    {
     "name": "stdin",
     "output_type": "stream",
     "text": [
      "Typing:  O que é o Alzheimer?\n"
     ]
    },
    {
     "name": "stdout",
     "output_type": "stream",
     "text": [
      "================================\u001b[1m Human Message \u001b[0m=================================\n",
      "Name: User\n",
      "\n",
      "Oi, meu nome é Marianna. Tudo bem?\n",
      "==================================\u001b[1m Ai Message \u001b[0m==================================\n",
      "\n",
      "Olá, Marianna! Estou aqui para ajudar. Como posso te auxiliar hoje?\n",
      "================================\u001b[1m Human Message \u001b[0m=================================\n",
      "Name: User\n",
      "\n",
      "Qual é o meu nome?\n",
      "==================================\u001b[1m Ai Message \u001b[0m==================================\n",
      "\n",
      "Seu nome é Marianna. Como posso te ajudar hoje, Marianna?\n",
      "================================\u001b[1m Human Message \u001b[0m=================================\n",
      "Name: User\n",
      "\n",
      "O que é o Alzheimer?\n",
      "==================================\u001b[1m Ai Message \u001b[0m==================================\n",
      "Tool Calls:\n",
      "  tavily_search_results_json (call_AqMdAeB28OQFonE7nqiZJsMz)\n",
      " Call ID: call_AqMdAeB28OQFonE7nqiZJsMz\n",
      "  Args:\n",
      "    query: O que é o Alzheimer?\n",
      "=================================\u001b[1m Tool Message \u001b[0m=================================\n",
      "Name: tavily_search_results_json\n",
      "\n",
      "[{'url': 'https://www.mdsaude.com/neurologia/mal-alzheimer/', 'content': 'Doença de Alzheimer: O que é, sintomas e tratamento O mal de Alzheimer, também conhecido como doença de Alzheimer, é uma doença degenerativa e progressiva que provoca atrofia do cérebro, levando à demência em pacientes idosos. O mal de Alzheimer é uma doença de lenta e progressiva evolução, que destrói as funções mentais importantes, levando o paciente à demência, um termo usado para indicar que o indivíduo perdeu suas capacidades de raciocínio, julgamento e memória, tornado-o dependente de apoio nas suas atividades diárias. Como não há cura para a doença de Alzheimer, o diagnóstico precoce é importante para se tentar preservar ao máximo as capacidades intelectuais e prolongar a qualidade de vida do paciente e de seus cuidadores.'}, {'url': 'https://alzheimerportugal.org/a-doenca-de-alzheimer/', 'content': 'A Doença de Alzheimer é um tipo de demência que provoca uma deterioração global, progressiva e irreversível de diversas funções cognitivas (memória, atenção, concentração, linguagem, pensamento, entre outras). Esta é a forma mais comum de Doença de Alzheimer e afeta pessoas que podem ter ou não, antecedentes familiares da doença. Mas para além das pessoas que desenvolvem a Doença de Alzheimer Familiar, não se conhece o motivo pelo qual uma pessoa desenvolve a doença e outra não. É importante ter um diagnóstico preciso o mais cedo possível, para determinar se a situação clínica da pessoa é devida à Doença de Alzheimer ou se os sintomas estão a ser causados por outra doença, diferente ou rara, que requeira um tratamento específico.'}, {'url': 'https://www.cuf.pt/saude-a-z/alzheimer', 'content': 'Alzheimer: o que é, sintomas e tratamento | CUF O exame neurológico é tipicamente normal nas fases iniciais da Doença de Alzheimer, tal como os exames de imagem que, se não forem também regulares, mostram apenas atrofia dos hipocampos, formações anatómicas existentes na parte interna dos hemisférios cerebrais que têm um papel fundamental na consolidação e evocação de novas memórias. Teleconsulta 1  Rui Araújo Especialidade Neurologia Hospitais e Clínicas Hospital CUF Porto Áreas de Diferenciação Demência, Doenças neurodegenerativas, Doença de Alzheimer, Défice cognitivo ligeiro, Demência Vascular, Demência frontotemporal, Demência de Corpos de Lewy, Doença de Parkinson, Parkinsonismos atípicos, Tremor Idiomas Inglês O neurologista Martinho Pimenta explica o que é o Alzheimer e como se pode tentar combater os sintomas.'}, {'url': 'https://www.minhavida.com.br/saude/temas/alzheimer', 'content': 'Alzheimer: o que é, sintomas, tratamentos e se é hereditário - Minha Vida Alzheimer: o que é, sintomas, tratamentos e se é hereditário Alzheimer: o que é, sintomas, tratamentos e se é hereditário Outra hipótese é o acúmulo de proteínas no cérebro, mais especificamente a proteína beta-amiloide e a proteína Tau. Esses componentes têm sido observados em abundância no cérebro de pacientes com a doença de Alzheimer, o que causa inflamação e destruição de células neuronais, principalmente nas áreas que correspondem à memória e à execução de tarefas. À medida que a doença de Alzheimer progride para os seus últimos estágios, as alterações cerebrais começam a afetar as funções físicas, como a deglutição, o equilíbrio e o controle do intestino e da bexiga.'}]\n",
      "==================================\u001b[1m Ai Message \u001b[0m==================================\n",
      "\n",
      "O Alzheimer, também conhecido como doença de Alzheimer, é uma doença degenerativa e progressiva que provoca atrofia do cérebro, levando à demência em pacientes idosos. É uma condição de lenta evolução que destrói funções mentais importantes, levando o paciente à dependência de apoio nas atividades diárias. Não há cura para o Alzheimer, por isso o diagnóstico precoce é essencial para preservar ao máximo as capacidades intelectuais e prolongar a qualidade de vida do paciente e de seus cuidadores. Se desejar mais informações detalhadas, posso buscar mais conteúdos sobre o Alzheimer. Como posso te ajudar mais, Marianna?\n",
      "*********************************************************************************************************\n"
     ]
    },
    {
     "name": "stdin",
     "output_type": "stream",
     "text": [
      "Typing:  Com quantos anos os sintomas começam a se manifestar?\n"
     ]
    },
    {
     "name": "stdout",
     "output_type": "stream",
     "text": [
      "================================\u001b[1m Human Message \u001b[0m=================================\n",
      "Name: User\n",
      "\n",
      "Oi, meu nome é Marianna. Tudo bem?\n",
      "==================================\u001b[1m Ai Message \u001b[0m==================================\n",
      "\n",
      "Olá, Marianna! Estou aqui para ajudar. Como posso te auxiliar hoje?\n",
      "================================\u001b[1m Human Message \u001b[0m=================================\n",
      "Name: User\n",
      "\n",
      "Qual é o meu nome?\n",
      "==================================\u001b[1m Ai Message \u001b[0m==================================\n",
      "\n",
      "Seu nome é Marianna. Como posso te ajudar hoje, Marianna?\n",
      "================================\u001b[1m Human Message \u001b[0m=================================\n",
      "Name: User\n",
      "\n",
      "O que é o Alzheimer?\n",
      "==================================\u001b[1m Ai Message \u001b[0m==================================\n",
      "Tool Calls:\n",
      "  tavily_search_results_json (call_AqMdAeB28OQFonE7nqiZJsMz)\n",
      " Call ID: call_AqMdAeB28OQFonE7nqiZJsMz\n",
      "  Args:\n",
      "    query: O que é o Alzheimer?\n",
      "=================================\u001b[1m Tool Message \u001b[0m=================================\n",
      "Name: tavily_search_results_json\n",
      "\n",
      "[{'url': 'https://www.mdsaude.com/neurologia/mal-alzheimer/', 'content': 'Doença de Alzheimer: O que é, sintomas e tratamento O mal de Alzheimer, também conhecido como doença de Alzheimer, é uma doença degenerativa e progressiva que provoca atrofia do cérebro, levando à demência em pacientes idosos. O mal de Alzheimer é uma doença de lenta e progressiva evolução, que destrói as funções mentais importantes, levando o paciente à demência, um termo usado para indicar que o indivíduo perdeu suas capacidades de raciocínio, julgamento e memória, tornado-o dependente de apoio nas suas atividades diárias. Como não há cura para a doença de Alzheimer, o diagnóstico precoce é importante para se tentar preservar ao máximo as capacidades intelectuais e prolongar a qualidade de vida do paciente e de seus cuidadores.'}, {'url': 'https://alzheimerportugal.org/a-doenca-de-alzheimer/', 'content': 'A Doença de Alzheimer é um tipo de demência que provoca uma deterioração global, progressiva e irreversível de diversas funções cognitivas (memória, atenção, concentração, linguagem, pensamento, entre outras). Esta é a forma mais comum de Doença de Alzheimer e afeta pessoas que podem ter ou não, antecedentes familiares da doença. Mas para além das pessoas que desenvolvem a Doença de Alzheimer Familiar, não se conhece o motivo pelo qual uma pessoa desenvolve a doença e outra não. É importante ter um diagnóstico preciso o mais cedo possível, para determinar se a situação clínica da pessoa é devida à Doença de Alzheimer ou se os sintomas estão a ser causados por outra doença, diferente ou rara, que requeira um tratamento específico.'}, {'url': 'https://www.cuf.pt/saude-a-z/alzheimer', 'content': 'Alzheimer: o que é, sintomas e tratamento | CUF O exame neurológico é tipicamente normal nas fases iniciais da Doença de Alzheimer, tal como os exames de imagem que, se não forem também regulares, mostram apenas atrofia dos hipocampos, formações anatómicas existentes na parte interna dos hemisférios cerebrais que têm um papel fundamental na consolidação e evocação de novas memórias. Teleconsulta 1  Rui Araújo Especialidade Neurologia Hospitais e Clínicas Hospital CUF Porto Áreas de Diferenciação Demência, Doenças neurodegenerativas, Doença de Alzheimer, Défice cognitivo ligeiro, Demência Vascular, Demência frontotemporal, Demência de Corpos de Lewy, Doença de Parkinson, Parkinsonismos atípicos, Tremor Idiomas Inglês O neurologista Martinho Pimenta explica o que é o Alzheimer e como se pode tentar combater os sintomas.'}, {'url': 'https://www.minhavida.com.br/saude/temas/alzheimer', 'content': 'Alzheimer: o que é, sintomas, tratamentos e se é hereditário - Minha Vida Alzheimer: o que é, sintomas, tratamentos e se é hereditário Alzheimer: o que é, sintomas, tratamentos e se é hereditário Outra hipótese é o acúmulo de proteínas no cérebro, mais especificamente a proteína beta-amiloide e a proteína Tau. Esses componentes têm sido observados em abundância no cérebro de pacientes com a doença de Alzheimer, o que causa inflamação e destruição de células neuronais, principalmente nas áreas que correspondem à memória e à execução de tarefas. À medida que a doença de Alzheimer progride para os seus últimos estágios, as alterações cerebrais começam a afetar as funções físicas, como a deglutição, o equilíbrio e o controle do intestino e da bexiga.'}]\n",
      "==================================\u001b[1m Ai Message \u001b[0m==================================\n",
      "\n",
      "O Alzheimer, também conhecido como doença de Alzheimer, é uma doença degenerativa e progressiva que provoca atrofia do cérebro, levando à demência em pacientes idosos. É uma condição de lenta evolução que destrói funções mentais importantes, levando o paciente à dependência de apoio nas atividades diárias. Não há cura para o Alzheimer, por isso o diagnóstico precoce é essencial para preservar ao máximo as capacidades intelectuais e prolongar a qualidade de vida do paciente e de seus cuidadores. Se desejar mais informações detalhadas, posso buscar mais conteúdos sobre o Alzheimer. Como posso te ajudar mais, Marianna?\n",
      "================================\u001b[1m Human Message \u001b[0m=================================\n",
      "Name: User\n",
      "\n",
      "Com quantos anos os sintomas começam a se manifestar?\n",
      "==================================\u001b[1m Ai Message \u001b[0m==================================\n",
      "\n",
      "Os sintomas do Alzheimer geralmente começam a se manifestar após os 60 anos de idade, embora em alguns casos possam surgir antes. É importante ressaltar que a idade é um fator de risco significativo para o desenvolvimento da doença, e quanto mais avançada a idade, maior a probabilidade de manifestação dos sintomas. Se precisar de mais informações ou esclarecimentos, estou à disposição para ajudar, Marianna.\n",
      "*********************************************************************************************************\n"
     ]
    },
    {
     "name": "stdin",
     "output_type": "stream",
     "text": [
      "Typing:  Sobre o que te perguntei anteriormente?\n"
     ]
    },
    {
     "name": "stdout",
     "output_type": "stream",
     "text": [
      "================================\u001b[1m Human Message \u001b[0m=================================\n",
      "Name: User\n",
      "\n",
      "Oi, meu nome é Marianna. Tudo bem?\n",
      "==================================\u001b[1m Ai Message \u001b[0m==================================\n",
      "\n",
      "Olá, Marianna! Estou aqui para ajudar. Como posso te auxiliar hoje?\n",
      "================================\u001b[1m Human Message \u001b[0m=================================\n",
      "Name: User\n",
      "\n",
      "Qual é o meu nome?\n",
      "==================================\u001b[1m Ai Message \u001b[0m==================================\n",
      "\n",
      "Seu nome é Marianna. Como posso te ajudar hoje, Marianna?\n",
      "================================\u001b[1m Human Message \u001b[0m=================================\n",
      "Name: User\n",
      "\n",
      "O que é o Alzheimer?\n",
      "==================================\u001b[1m Ai Message \u001b[0m==================================\n",
      "Tool Calls:\n",
      "  tavily_search_results_json (call_AqMdAeB28OQFonE7nqiZJsMz)\n",
      " Call ID: call_AqMdAeB28OQFonE7nqiZJsMz\n",
      "  Args:\n",
      "    query: O que é o Alzheimer?\n",
      "=================================\u001b[1m Tool Message \u001b[0m=================================\n",
      "Name: tavily_search_results_json\n",
      "\n",
      "[{'url': 'https://www.mdsaude.com/neurologia/mal-alzheimer/', 'content': 'Doença de Alzheimer: O que é, sintomas e tratamento O mal de Alzheimer, também conhecido como doença de Alzheimer, é uma doença degenerativa e progressiva que provoca atrofia do cérebro, levando à demência em pacientes idosos. O mal de Alzheimer é uma doença de lenta e progressiva evolução, que destrói as funções mentais importantes, levando o paciente à demência, um termo usado para indicar que o indivíduo perdeu suas capacidades de raciocínio, julgamento e memória, tornado-o dependente de apoio nas suas atividades diárias. Como não há cura para a doença de Alzheimer, o diagnóstico precoce é importante para se tentar preservar ao máximo as capacidades intelectuais e prolongar a qualidade de vida do paciente e de seus cuidadores.'}, {'url': 'https://alzheimerportugal.org/a-doenca-de-alzheimer/', 'content': 'A Doença de Alzheimer é um tipo de demência que provoca uma deterioração global, progressiva e irreversível de diversas funções cognitivas (memória, atenção, concentração, linguagem, pensamento, entre outras). Esta é a forma mais comum de Doença de Alzheimer e afeta pessoas que podem ter ou não, antecedentes familiares da doença. Mas para além das pessoas que desenvolvem a Doença de Alzheimer Familiar, não se conhece o motivo pelo qual uma pessoa desenvolve a doença e outra não. É importante ter um diagnóstico preciso o mais cedo possível, para determinar se a situação clínica da pessoa é devida à Doença de Alzheimer ou se os sintomas estão a ser causados por outra doença, diferente ou rara, que requeira um tratamento específico.'}, {'url': 'https://www.cuf.pt/saude-a-z/alzheimer', 'content': 'Alzheimer: o que é, sintomas e tratamento | CUF O exame neurológico é tipicamente normal nas fases iniciais da Doença de Alzheimer, tal como os exames de imagem que, se não forem também regulares, mostram apenas atrofia dos hipocampos, formações anatómicas existentes na parte interna dos hemisférios cerebrais que têm um papel fundamental na consolidação e evocação de novas memórias. Teleconsulta 1  Rui Araújo Especialidade Neurologia Hospitais e Clínicas Hospital CUF Porto Áreas de Diferenciação Demência, Doenças neurodegenerativas, Doença de Alzheimer, Défice cognitivo ligeiro, Demência Vascular, Demência frontotemporal, Demência de Corpos de Lewy, Doença de Parkinson, Parkinsonismos atípicos, Tremor Idiomas Inglês O neurologista Martinho Pimenta explica o que é o Alzheimer e como se pode tentar combater os sintomas.'}, {'url': 'https://www.minhavida.com.br/saude/temas/alzheimer', 'content': 'Alzheimer: o que é, sintomas, tratamentos e se é hereditário - Minha Vida Alzheimer: o que é, sintomas, tratamentos e se é hereditário Alzheimer: o que é, sintomas, tratamentos e se é hereditário Outra hipótese é o acúmulo de proteínas no cérebro, mais especificamente a proteína beta-amiloide e a proteína Tau. Esses componentes têm sido observados em abundância no cérebro de pacientes com a doença de Alzheimer, o que causa inflamação e destruição de células neuronais, principalmente nas áreas que correspondem à memória e à execução de tarefas. À medida que a doença de Alzheimer progride para os seus últimos estágios, as alterações cerebrais começam a afetar as funções físicas, como a deglutição, o equilíbrio e o controle do intestino e da bexiga.'}]\n",
      "==================================\u001b[1m Ai Message \u001b[0m==================================\n",
      "\n",
      "O Alzheimer, também conhecido como doença de Alzheimer, é uma doença degenerativa e progressiva que provoca atrofia do cérebro, levando à demência em pacientes idosos. É uma condição de lenta evolução que destrói funções mentais importantes, levando o paciente à dependência de apoio nas atividades diárias. Não há cura para o Alzheimer, por isso o diagnóstico precoce é essencial para preservar ao máximo as capacidades intelectuais e prolongar a qualidade de vida do paciente e de seus cuidadores. Se desejar mais informações detalhadas, posso buscar mais conteúdos sobre o Alzheimer. Como posso te ajudar mais, Marianna?\n",
      "================================\u001b[1m Human Message \u001b[0m=================================\n",
      "Name: User\n",
      "\n",
      "Com quantos anos os sintomas começam a se manifestar?\n",
      "==================================\u001b[1m Ai Message \u001b[0m==================================\n",
      "\n",
      "Os sintomas do Alzheimer geralmente começam a se manifestar após os 60 anos de idade, embora em alguns casos possam surgir antes. É importante ressaltar que a idade é um fator de risco significativo para o desenvolvimento da doença, e quanto mais avançada a idade, maior a probabilidade de manifestação dos sintomas. Se precisar de mais informações ou esclarecimentos, estou à disposição para ajudar, Marianna.\n",
      "================================\u001b[1m Human Message \u001b[0m=================================\n",
      "Name: User\n",
      "\n",
      "Sobre o que te perguntei anteriormente?\n",
      "==================================\u001b[1m Ai Message \u001b[0m==================================\n",
      "\n",
      "Você perguntou sobre a idade em que os sintomas do Alzheimer começam a se manifestar. Os sintomas geralmente surgem após os 60 anos de idade, mas podem ocorrer antes em alguns casos. Se precisar de mais detalhes ou tiver outras dúvidas, estou aqui para ajudar, Marianna.\n",
      "*********************************************************************************************************\n"
     ]
    },
    {
     "name": "stdin",
     "output_type": "stream",
     "text": [
      "Typing:  Me dê mais detalhes sobre as minhas dúvidas\n"
     ]
    },
    {
     "name": "stdout",
     "output_type": "stream",
     "text": [
      "================================\u001b[1m Human Message \u001b[0m=================================\n",
      "Name: User\n",
      "\n",
      "Oi, meu nome é Marianna. Tudo bem?\n",
      "==================================\u001b[1m Ai Message \u001b[0m==================================\n",
      "\n",
      "Olá, Marianna! Estou aqui para ajudar. Como posso te auxiliar hoje?\n",
      "================================\u001b[1m Human Message \u001b[0m=================================\n",
      "Name: User\n",
      "\n",
      "Qual é o meu nome?\n",
      "==================================\u001b[1m Ai Message \u001b[0m==================================\n",
      "\n",
      "Seu nome é Marianna. Como posso te ajudar hoje, Marianna?\n",
      "================================\u001b[1m Human Message \u001b[0m=================================\n",
      "Name: User\n",
      "\n",
      "O que é o Alzheimer?\n",
      "==================================\u001b[1m Ai Message \u001b[0m==================================\n",
      "Tool Calls:\n",
      "  tavily_search_results_json (call_AqMdAeB28OQFonE7nqiZJsMz)\n",
      " Call ID: call_AqMdAeB28OQFonE7nqiZJsMz\n",
      "  Args:\n",
      "    query: O que é o Alzheimer?\n",
      "=================================\u001b[1m Tool Message \u001b[0m=================================\n",
      "Name: tavily_search_results_json\n",
      "\n",
      "[{'url': 'https://www.mdsaude.com/neurologia/mal-alzheimer/', 'content': 'Doença de Alzheimer: O que é, sintomas e tratamento O mal de Alzheimer, também conhecido como doença de Alzheimer, é uma doença degenerativa e progressiva que provoca atrofia do cérebro, levando à demência em pacientes idosos. O mal de Alzheimer é uma doença de lenta e progressiva evolução, que destrói as funções mentais importantes, levando o paciente à demência, um termo usado para indicar que o indivíduo perdeu suas capacidades de raciocínio, julgamento e memória, tornado-o dependente de apoio nas suas atividades diárias. Como não há cura para a doença de Alzheimer, o diagnóstico precoce é importante para se tentar preservar ao máximo as capacidades intelectuais e prolongar a qualidade de vida do paciente e de seus cuidadores.'}, {'url': 'https://alzheimerportugal.org/a-doenca-de-alzheimer/', 'content': 'A Doença de Alzheimer é um tipo de demência que provoca uma deterioração global, progressiva e irreversível de diversas funções cognitivas (memória, atenção, concentração, linguagem, pensamento, entre outras). Esta é a forma mais comum de Doença de Alzheimer e afeta pessoas que podem ter ou não, antecedentes familiares da doença. Mas para além das pessoas que desenvolvem a Doença de Alzheimer Familiar, não se conhece o motivo pelo qual uma pessoa desenvolve a doença e outra não. É importante ter um diagnóstico preciso o mais cedo possível, para determinar se a situação clínica da pessoa é devida à Doença de Alzheimer ou se os sintomas estão a ser causados por outra doença, diferente ou rara, que requeira um tratamento específico.'}, {'url': 'https://www.cuf.pt/saude-a-z/alzheimer', 'content': 'Alzheimer: o que é, sintomas e tratamento | CUF O exame neurológico é tipicamente normal nas fases iniciais da Doença de Alzheimer, tal como os exames de imagem que, se não forem também regulares, mostram apenas atrofia dos hipocampos, formações anatómicas existentes na parte interna dos hemisférios cerebrais que têm um papel fundamental na consolidação e evocação de novas memórias. Teleconsulta 1  Rui Araújo Especialidade Neurologia Hospitais e Clínicas Hospital CUF Porto Áreas de Diferenciação Demência, Doenças neurodegenerativas, Doença de Alzheimer, Défice cognitivo ligeiro, Demência Vascular, Demência frontotemporal, Demência de Corpos de Lewy, Doença de Parkinson, Parkinsonismos atípicos, Tremor Idiomas Inglês O neurologista Martinho Pimenta explica o que é o Alzheimer e como se pode tentar combater os sintomas.'}, {'url': 'https://www.minhavida.com.br/saude/temas/alzheimer', 'content': 'Alzheimer: o que é, sintomas, tratamentos e se é hereditário - Minha Vida Alzheimer: o que é, sintomas, tratamentos e se é hereditário Alzheimer: o que é, sintomas, tratamentos e se é hereditário Outra hipótese é o acúmulo de proteínas no cérebro, mais especificamente a proteína beta-amiloide e a proteína Tau. Esses componentes têm sido observados em abundância no cérebro de pacientes com a doença de Alzheimer, o que causa inflamação e destruição de células neuronais, principalmente nas áreas que correspondem à memória e à execução de tarefas. À medida que a doença de Alzheimer progride para os seus últimos estágios, as alterações cerebrais começam a afetar as funções físicas, como a deglutição, o equilíbrio e o controle do intestino e da bexiga.'}]\n",
      "==================================\u001b[1m Ai Message \u001b[0m==================================\n",
      "\n",
      "O Alzheimer, também conhecido como doença de Alzheimer, é uma doença degenerativa e progressiva que provoca atrofia do cérebro, levando à demência em pacientes idosos. É uma condição de lenta evolução que destrói funções mentais importantes, levando o paciente à dependência de apoio nas atividades diárias. Não há cura para o Alzheimer, por isso o diagnóstico precoce é essencial para preservar ao máximo as capacidades intelectuais e prolongar a qualidade de vida do paciente e de seus cuidadores. Se desejar mais informações detalhadas, posso buscar mais conteúdos sobre o Alzheimer. Como posso te ajudar mais, Marianna?\n",
      "================================\u001b[1m Human Message \u001b[0m=================================\n",
      "Name: User\n",
      "\n",
      "Com quantos anos os sintomas começam a se manifestar?\n",
      "==================================\u001b[1m Ai Message \u001b[0m==================================\n",
      "\n",
      "Os sintomas do Alzheimer geralmente começam a se manifestar após os 60 anos de idade, embora em alguns casos possam surgir antes. É importante ressaltar que a idade é um fator de risco significativo para o desenvolvimento da doença, e quanto mais avançada a idade, maior a probabilidade de manifestação dos sintomas. Se precisar de mais informações ou esclarecimentos, estou à disposição para ajudar, Marianna.\n",
      "================================\u001b[1m Human Message \u001b[0m=================================\n",
      "Name: User\n",
      "\n",
      "Sobre o que te perguntei anteriormente?\n",
      "==================================\u001b[1m Ai Message \u001b[0m==================================\n",
      "\n",
      "Você perguntou sobre a idade em que os sintomas do Alzheimer começam a se manifestar. Os sintomas geralmente surgem após os 60 anos de idade, mas podem ocorrer antes em alguns casos. Se precisar de mais detalhes ou tiver outras dúvidas, estou aqui para ajudar, Marianna.\n",
      "================================\u001b[1m Human Message \u001b[0m=================================\n",
      "Name: User\n",
      "\n",
      "Me dê mais detalhes sobre as minhas dúvidas\n",
      "==================================\u001b[1m Ai Message \u001b[0m==================================\n",
      "\n",
      "O Alzheimer é uma doença neurodegenerativa progressiva que afeta principalmente a memória, o pensamento e o comportamento. Os sintomas iniciais podem incluir lapsos de memória, dificuldade em realizar tarefas cotidianas, desorientação no tempo e espaço, problemas de linguagem e mudanças de humor. Conforme a doença progride, os sintomas se agravam, levando a uma perda significativa da capacidade cognitiva e funcional.\n",
      "\n",
      "O diagnóstico precoce do Alzheimer é fundamental para permitir intervenções precoces, tratamentos adequados e planejamento futuro. O tratamento atual visa controlar os sintomas, melhorar a qualidade de vida e retardar a progressão da doença, mas ainda não há cura definitiva.\n",
      "\n",
      "É importante estar atento a sinais de alerta, como esquecimento frequente, dificuldade em realizar tarefas conhecidas, confusão de tempo e lugar, alterações de humor e personalidade, entre outros. Caso tenha mais dúvidas específicas ou queira saber mais detalhes sobre o Alzheimer, fique à vontade para perguntar, Marianna. Estou aqui para ajudar.\n",
      "*********************************************************************************************************\n"
     ]
    },
    {
     "name": "stdin",
     "output_type": "stream",
     "text": [
      "Typing:  Qual é o meu nome?\n"
     ]
    },
    {
     "name": "stdout",
     "output_type": "stream",
     "text": [
      "================================\u001b[1m Human Message \u001b[0m=================================\n",
      "Name: User\n",
      "\n",
      "Oi, meu nome é Marianna. Tudo bem?\n",
      "==================================\u001b[1m Ai Message \u001b[0m==================================\n",
      "\n",
      "Olá, Marianna! Estou aqui para ajudar. Como posso te auxiliar hoje?\n",
      "================================\u001b[1m Human Message \u001b[0m=================================\n",
      "Name: User\n",
      "\n",
      "Qual é o meu nome?\n",
      "==================================\u001b[1m Ai Message \u001b[0m==================================\n",
      "\n",
      "Seu nome é Marianna. Como posso te ajudar hoje, Marianna?\n",
      "================================\u001b[1m Human Message \u001b[0m=================================\n",
      "Name: User\n",
      "\n",
      "O que é o Alzheimer?\n",
      "==================================\u001b[1m Ai Message \u001b[0m==================================\n",
      "Tool Calls:\n",
      "  tavily_search_results_json (call_AqMdAeB28OQFonE7nqiZJsMz)\n",
      " Call ID: call_AqMdAeB28OQFonE7nqiZJsMz\n",
      "  Args:\n",
      "    query: O que é o Alzheimer?\n",
      "=================================\u001b[1m Tool Message \u001b[0m=================================\n",
      "Name: tavily_search_results_json\n",
      "\n",
      "[{'url': 'https://www.mdsaude.com/neurologia/mal-alzheimer/', 'content': 'Doença de Alzheimer: O que é, sintomas e tratamento O mal de Alzheimer, também conhecido como doença de Alzheimer, é uma doença degenerativa e progressiva que provoca atrofia do cérebro, levando à demência em pacientes idosos. O mal de Alzheimer é uma doença de lenta e progressiva evolução, que destrói as funções mentais importantes, levando o paciente à demência, um termo usado para indicar que o indivíduo perdeu suas capacidades de raciocínio, julgamento e memória, tornado-o dependente de apoio nas suas atividades diárias. Como não há cura para a doença de Alzheimer, o diagnóstico precoce é importante para se tentar preservar ao máximo as capacidades intelectuais e prolongar a qualidade de vida do paciente e de seus cuidadores.'}, {'url': 'https://alzheimerportugal.org/a-doenca-de-alzheimer/', 'content': 'A Doença de Alzheimer é um tipo de demência que provoca uma deterioração global, progressiva e irreversível de diversas funções cognitivas (memória, atenção, concentração, linguagem, pensamento, entre outras). Esta é a forma mais comum de Doença de Alzheimer e afeta pessoas que podem ter ou não, antecedentes familiares da doença. Mas para além das pessoas que desenvolvem a Doença de Alzheimer Familiar, não se conhece o motivo pelo qual uma pessoa desenvolve a doença e outra não. É importante ter um diagnóstico preciso o mais cedo possível, para determinar se a situação clínica da pessoa é devida à Doença de Alzheimer ou se os sintomas estão a ser causados por outra doença, diferente ou rara, que requeira um tratamento específico.'}, {'url': 'https://www.cuf.pt/saude-a-z/alzheimer', 'content': 'Alzheimer: o que é, sintomas e tratamento | CUF O exame neurológico é tipicamente normal nas fases iniciais da Doença de Alzheimer, tal como os exames de imagem que, se não forem também regulares, mostram apenas atrofia dos hipocampos, formações anatómicas existentes na parte interna dos hemisférios cerebrais que têm um papel fundamental na consolidação e evocação de novas memórias. Teleconsulta 1  Rui Araújo Especialidade Neurologia Hospitais e Clínicas Hospital CUF Porto Áreas de Diferenciação Demência, Doenças neurodegenerativas, Doença de Alzheimer, Défice cognitivo ligeiro, Demência Vascular, Demência frontotemporal, Demência de Corpos de Lewy, Doença de Parkinson, Parkinsonismos atípicos, Tremor Idiomas Inglês O neurologista Martinho Pimenta explica o que é o Alzheimer e como se pode tentar combater os sintomas.'}, {'url': 'https://www.minhavida.com.br/saude/temas/alzheimer', 'content': 'Alzheimer: o que é, sintomas, tratamentos e se é hereditário - Minha Vida Alzheimer: o que é, sintomas, tratamentos e se é hereditário Alzheimer: o que é, sintomas, tratamentos e se é hereditário Outra hipótese é o acúmulo de proteínas no cérebro, mais especificamente a proteína beta-amiloide e a proteína Tau. Esses componentes têm sido observados em abundância no cérebro de pacientes com a doença de Alzheimer, o que causa inflamação e destruição de células neuronais, principalmente nas áreas que correspondem à memória e à execução de tarefas. À medida que a doença de Alzheimer progride para os seus últimos estágios, as alterações cerebrais começam a afetar as funções físicas, como a deglutição, o equilíbrio e o controle do intestino e da bexiga.'}]\n",
      "==================================\u001b[1m Ai Message \u001b[0m==================================\n",
      "\n",
      "O Alzheimer, também conhecido como doença de Alzheimer, é uma doença degenerativa e progressiva que provoca atrofia do cérebro, levando à demência em pacientes idosos. É uma condição de lenta evolução que destrói funções mentais importantes, levando o paciente à dependência de apoio nas atividades diárias. Não há cura para o Alzheimer, por isso o diagnóstico precoce é essencial para preservar ao máximo as capacidades intelectuais e prolongar a qualidade de vida do paciente e de seus cuidadores. Se desejar mais informações detalhadas, posso buscar mais conteúdos sobre o Alzheimer. Como posso te ajudar mais, Marianna?\n",
      "================================\u001b[1m Human Message \u001b[0m=================================\n",
      "Name: User\n",
      "\n",
      "Com quantos anos os sintomas começam a se manifestar?\n",
      "==================================\u001b[1m Ai Message \u001b[0m==================================\n",
      "\n",
      "Os sintomas do Alzheimer geralmente começam a se manifestar após os 60 anos de idade, embora em alguns casos possam surgir antes. É importante ressaltar que a idade é um fator de risco significativo para o desenvolvimento da doença, e quanto mais avançada a idade, maior a probabilidade de manifestação dos sintomas. Se precisar de mais informações ou esclarecimentos, estou à disposição para ajudar, Marianna.\n",
      "================================\u001b[1m Human Message \u001b[0m=================================\n",
      "Name: User\n",
      "\n",
      "Sobre o que te perguntei anteriormente?\n",
      "==================================\u001b[1m Ai Message \u001b[0m==================================\n",
      "\n",
      "Você perguntou sobre a idade em que os sintomas do Alzheimer começam a se manifestar. Os sintomas geralmente surgem após os 60 anos de idade, mas podem ocorrer antes em alguns casos. Se precisar de mais detalhes ou tiver outras dúvidas, estou aqui para ajudar, Marianna.\n",
      "================================\u001b[1m Human Message \u001b[0m=================================\n",
      "Name: User\n",
      "\n",
      "Me dê mais detalhes sobre as minhas dúvidas\n",
      "==================================\u001b[1m Ai Message \u001b[0m==================================\n",
      "\n",
      "O Alzheimer é uma doença neurodegenerativa progressiva que afeta principalmente a memória, o pensamento e o comportamento. Os sintomas iniciais podem incluir lapsos de memória, dificuldade em realizar tarefas cotidianas, desorientação no tempo e espaço, problemas de linguagem e mudanças de humor. Conforme a doença progride, os sintomas se agravam, levando a uma perda significativa da capacidade cognitiva e funcional.\n",
      "\n",
      "O diagnóstico precoce do Alzheimer é fundamental para permitir intervenções precoces, tratamentos adequados e planejamento futuro. O tratamento atual visa controlar os sintomas, melhorar a qualidade de vida e retardar a progressão da doença, mas ainda não há cura definitiva.\n",
      "\n",
      "É importante estar atento a sinais de alerta, como esquecimento frequente, dificuldade em realizar tarefas conhecidas, confusão de tempo e lugar, alterações de humor e personalidade, entre outros. Caso tenha mais dúvidas específicas ou queira saber mais detalhes sobre o Alzheimer, fique à vontade para perguntar, Marianna. Estou aqui para ajudar.\n",
      "================================\u001b[1m Human Message \u001b[0m=================================\n",
      "Name: User\n",
      "\n",
      "Qual é o meu nome?\n",
      "==================================\u001b[1m Ai Message \u001b[0m==================================\n",
      "\n",
      "Seu nome é Marianna. Como posso te ajudar hoje, Marianna?\n",
      "*********************************************************************************************************\n"
     ]
    },
    {
     "name": "stdin",
     "output_type": "stream",
     "text": [
      "Typing:  END\n"
     ]
    }
   ],
   "source": [
    "config = {\"configurable\": {\"thread_id\": \"1\"}}\n",
    "chatbot_loop(chatbot=chatbot_complete.agent_graph, config=config)"
   ]
  },
  {
   "cell_type": "code",
   "execution_count": 21,
   "metadata": {},
   "outputs": [
    {
     "name": "stdout",
     "output_type": "stream",
     "text": [
      "================================\u001b[1m Human Message \u001b[0m=================================\n",
      "Name: User\n",
      "\n",
      "Oi, meu nome é Leticia\n",
      "==================================\u001b[1m Ai Message \u001b[0m==================================\n",
      "\n",
      "Olá, Leticia! Como posso te ajudar hoje?\n",
      "*********************************************************************************************************\n",
      "================================\u001b[1m Human Message \u001b[0m=================================\n",
      "Name: User\n",
      "\n",
      "Oi, meu nome é Leticia\n",
      "==================================\u001b[1m Ai Message \u001b[0m==================================\n",
      "\n",
      "Olá, Leticia! Como posso te ajudar hoje?\n",
      "================================\u001b[1m Human Message \u001b[0m=================================\n",
      "Name: User\n",
      "\n",
      "Qual é a porcentagem da população no brasil hoje que possui alzheimer?\n",
      "==================================\u001b[1m Ai Message \u001b[0m==================================\n",
      "Tool Calls:\n",
      "  tavily_search_results_json (call_CcbiCJXKdxbKXiTfo48FXlSY)\n",
      " Call ID: call_CcbiCJXKdxbKXiTfo48FXlSY\n",
      "  Args:\n",
      "    query: porcentagem da população no Brasil com Alzheimer\n",
      "=================================\u001b[1m Tool Message \u001b[0m=================================\n",
      "Name: tavily_search_results_json\n",
      "\n",
      "[{'url': 'https://www1.folha.uol.com.br/equilibrioesaude/2023/09/brasil-tem-quase-1-milhao-de-pessoas-com-alzheimer.shtml', 'content': 'No Brasil, 1,7 milhão de pessoas com 60 anos ou mais têm algum tipo de demência, e só a doença de Alzheimer corresponde a 55% desses casos (966.594). Os dados foram apresentadas pela Abraz ...'}, {'url': 'https://www.uol.com.br/vivabem/noticias/redacao/2021/04/14/proporcao-de-brasileiros-com-demencia-mais-que-dobra-em-30-anos.htm', 'content': 'A análise dos dados mostra que a proporção de pessoas com Alzheimer no Brasil aumentou 127% em três décadas. Pioneiro em descrever o perfil socioeconômico, comportamental e clínico de pessoas com doença de Alzheimer no país, o trabalho mostra que é menor a chance de pessoas negras serem diagnosticadas com a doença e é mais comum a ...'}, {'url': 'https://jornal.usp.br/radio-usp/a-doenca-de-alzheimer-e-onerosa-para-a-sociedade-e-para-as-familias/', 'content': 'A Organização Mundial da Saúde (OMS) apontou, em seu relatório mundial de Alzheimer de 2021, que o Brasil estará entre os países mais afetados por essa doença no futuro — a enfermidade tende a acometer as nações mais populosas do globo, especialmente as de média e baixa renda.No cenário nacional, cerca de 1,2 milhão de pessoas sofrem com alguma forma de demência e, ao levar em ...'}, {'url': 'https://www.scielosp.org/article/rbepid/2021.v24/e210018/', 'content': 'Quem são as pessoas com Doença de Alzheimer no Brasil? Resultados do Estudo Longitudinal da Saúde dos Idosos Brasileiros (ELSI-Brasil) ... Essas características podem estar relacionadas à pior saúde física e mental observada nessa população. Dois em cada três idosos com DA no Brasil relataram que se sentiam deprimidos ou tristes na ...'}]\n",
      "==================================\u001b[1m Ai Message \u001b[0m==================================\n",
      "\n",
      "De acordo com informações encontradas, no Brasil, 1,7 milhão de pessoas com 60 anos ou mais têm algum tipo de demência, sendo que a doença de Alzheimer corresponde a 55% desses casos, o que equivale a cerca de 966.594 pessoas com Alzheimer.\n",
      "*********************************************************************************************************\n",
      "================================\u001b[1m Human Message \u001b[0m=================================\n",
      "Name: User\n",
      "\n",
      "Oi, meu nome é Leticia\n",
      "==================================\u001b[1m Ai Message \u001b[0m==================================\n",
      "\n",
      "Olá, Leticia! Como posso te ajudar hoje?\n",
      "================================\u001b[1m Human Message \u001b[0m=================================\n",
      "Name: User\n",
      "\n",
      "Qual é a porcentagem da população no brasil hoje que possui alzheimer?\n",
      "==================================\u001b[1m Ai Message \u001b[0m==================================\n",
      "Tool Calls:\n",
      "  tavily_search_results_json (call_CcbiCJXKdxbKXiTfo48FXlSY)\n",
      " Call ID: call_CcbiCJXKdxbKXiTfo48FXlSY\n",
      "  Args:\n",
      "    query: porcentagem da população no Brasil com Alzheimer\n",
      "=================================\u001b[1m Tool Message \u001b[0m=================================\n",
      "Name: tavily_search_results_json\n",
      "\n",
      "[{'url': 'https://www1.folha.uol.com.br/equilibrioesaude/2023/09/brasil-tem-quase-1-milhao-de-pessoas-com-alzheimer.shtml', 'content': 'No Brasil, 1,7 milhão de pessoas com 60 anos ou mais têm algum tipo de demência, e só a doença de Alzheimer corresponde a 55% desses casos (966.594). Os dados foram apresentadas pela Abraz ...'}, {'url': 'https://www.uol.com.br/vivabem/noticias/redacao/2021/04/14/proporcao-de-brasileiros-com-demencia-mais-que-dobra-em-30-anos.htm', 'content': 'A análise dos dados mostra que a proporção de pessoas com Alzheimer no Brasil aumentou 127% em três décadas. Pioneiro em descrever o perfil socioeconômico, comportamental e clínico de pessoas com doença de Alzheimer no país, o trabalho mostra que é menor a chance de pessoas negras serem diagnosticadas com a doença e é mais comum a ...'}, {'url': 'https://jornal.usp.br/radio-usp/a-doenca-de-alzheimer-e-onerosa-para-a-sociedade-e-para-as-familias/', 'content': 'A Organização Mundial da Saúde (OMS) apontou, em seu relatório mundial de Alzheimer de 2021, que o Brasil estará entre os países mais afetados por essa doença no futuro — a enfermidade tende a acometer as nações mais populosas do globo, especialmente as de média e baixa renda.No cenário nacional, cerca de 1,2 milhão de pessoas sofrem com alguma forma de demência e, ao levar em ...'}, {'url': 'https://www.scielosp.org/article/rbepid/2021.v24/e210018/', 'content': 'Quem são as pessoas com Doença de Alzheimer no Brasil? Resultados do Estudo Longitudinal da Saúde dos Idosos Brasileiros (ELSI-Brasil) ... Essas características podem estar relacionadas à pior saúde física e mental observada nessa população. Dois em cada três idosos com DA no Brasil relataram que se sentiam deprimidos ou tristes na ...'}]\n",
      "==================================\u001b[1m Ai Message \u001b[0m==================================\n",
      "\n",
      "De acordo com informações encontradas, no Brasil, 1,7 milhão de pessoas com 60 anos ou mais têm algum tipo de demência, sendo que a doença de Alzheimer corresponde a 55% desses casos, o que equivale a cerca de 966.594 pessoas com Alzheimer.\n",
      "================================\u001b[1m Human Message \u001b[0m=================================\n",
      "Name: User\n",
      "\n",
      "\n",
      "==================================\u001b[1m Ai Message \u001b[0m==================================\n",
      "\n",
      "Se tiver mais alguma dúvida ou precisar de mais informações, estou à disposição para ajudar!\n",
      "*********************************************************************************************************\n",
      "================================\u001b[1m Human Message \u001b[0m=================================\n",
      "Name: User\n",
      "\n",
      "Oi, meu nome é Leticia\n",
      "==================================\u001b[1m Ai Message \u001b[0m==================================\n",
      "\n",
      "Olá, Leticia! Como posso te ajudar hoje?\n",
      "================================\u001b[1m Human Message \u001b[0m=================================\n",
      "Name: User\n",
      "\n",
      "Qual é a porcentagem da população no brasil hoje que possui alzheimer?\n",
      "==================================\u001b[1m Ai Message \u001b[0m==================================\n",
      "Tool Calls:\n",
      "  tavily_search_results_json (call_CcbiCJXKdxbKXiTfo48FXlSY)\n",
      " Call ID: call_CcbiCJXKdxbKXiTfo48FXlSY\n",
      "  Args:\n",
      "    query: porcentagem da população no Brasil com Alzheimer\n",
      "=================================\u001b[1m Tool Message \u001b[0m=================================\n",
      "Name: tavily_search_results_json\n",
      "\n",
      "[{'url': 'https://www1.folha.uol.com.br/equilibrioesaude/2023/09/brasil-tem-quase-1-milhao-de-pessoas-com-alzheimer.shtml', 'content': 'No Brasil, 1,7 milhão de pessoas com 60 anos ou mais têm algum tipo de demência, e só a doença de Alzheimer corresponde a 55% desses casos (966.594). Os dados foram apresentadas pela Abraz ...'}, {'url': 'https://www.uol.com.br/vivabem/noticias/redacao/2021/04/14/proporcao-de-brasileiros-com-demencia-mais-que-dobra-em-30-anos.htm', 'content': 'A análise dos dados mostra que a proporção de pessoas com Alzheimer no Brasil aumentou 127% em três décadas. Pioneiro em descrever o perfil socioeconômico, comportamental e clínico de pessoas com doença de Alzheimer no país, o trabalho mostra que é menor a chance de pessoas negras serem diagnosticadas com a doença e é mais comum a ...'}, {'url': 'https://jornal.usp.br/radio-usp/a-doenca-de-alzheimer-e-onerosa-para-a-sociedade-e-para-as-familias/', 'content': 'A Organização Mundial da Saúde (OMS) apontou, em seu relatório mundial de Alzheimer de 2021, que o Brasil estará entre os países mais afetados por essa doença no futuro — a enfermidade tende a acometer as nações mais populosas do globo, especialmente as de média e baixa renda.No cenário nacional, cerca de 1,2 milhão de pessoas sofrem com alguma forma de demência e, ao levar em ...'}, {'url': 'https://www.scielosp.org/article/rbepid/2021.v24/e210018/', 'content': 'Quem são as pessoas com Doença de Alzheimer no Brasil? Resultados do Estudo Longitudinal da Saúde dos Idosos Brasileiros (ELSI-Brasil) ... Essas características podem estar relacionadas à pior saúde física e mental observada nessa população. Dois em cada três idosos com DA no Brasil relataram que se sentiam deprimidos ou tristes na ...'}]\n",
      "==================================\u001b[1m Ai Message \u001b[0m==================================\n",
      "\n",
      "De acordo com informações encontradas, no Brasil, 1,7 milhão de pessoas com 60 anos ou mais têm algum tipo de demência, sendo que a doença de Alzheimer corresponde a 55% desses casos, o que equivale a cerca de 966.594 pessoas com Alzheimer.\n",
      "================================\u001b[1m Human Message \u001b[0m=================================\n",
      "Name: User\n",
      "\n",
      "\n",
      "==================================\u001b[1m Ai Message \u001b[0m==================================\n",
      "\n",
      "Se tiver mais alguma dúvida ou precisar de mais informações, estou à disposição para ajudar!\n",
      "================================\u001b[1m Human Message \u001b[0m=================================\n",
      "Name: User\n",
      "\n",
      "Quais perguntas te fiz?\n",
      "==================================\u001b[1m Ai Message \u001b[0m==================================\n",
      "\n",
      "Você me perguntou qual é a porcentagem da população no Brasil hoje que possui Alzheimer. Se tiver mais perguntas ou precisar de mais informações, fique à vontade para perguntar!\n",
      "*********************************************************************************************************\n"
     ]
    }
   ],
   "source": [
    "config = {\"configurable\": {\"thread_id\": \"2\"}}\n",
    "chatbot_loop(chatbot=chatbot_complete.agent_graph, config=config)"
   ]
  },
  {
   "cell_type": "code",
   "execution_count": 22,
   "metadata": {},
   "outputs": [
    {
     "name": "stdout",
     "output_type": "stream",
     "text": [
      "================================\u001b[1m Human Message \u001b[0m=================================\n",
      "Name: User\n",
      "\n",
      "Oi, meu nome é Marianna\n",
      "==================================\u001b[1m Ai Message \u001b[0m==================================\n",
      "\n",
      "Olá, Marianna! Como posso te ajudar hoje?\n",
      "================================\u001b[1m Human Message \u001b[0m=================================\n",
      "Name: User\n",
      "\n",
      "\n",
      "==================================\u001b[1m Ai Message \u001b[0m==================================\n",
      "\n",
      "Como posso te ajudar hoje?\n",
      "================================\u001b[1m Human Message \u001b[0m=================================\n",
      "Name: User\n",
      "\n",
      "Como é o meu nome?\n",
      "==================================\u001b[1m Ai Message \u001b[0m==================================\n",
      "\n",
      "Seu nome é Marianna. Como posso ajudar você, Marianna?\n",
      "================================\u001b[1m Human Message \u001b[0m=================================\n",
      "Name: User\n",
      "\n",
      "O que é o Alzheimer?\n",
      "==================================\u001b[1m Ai Message \u001b[0m==================================\n",
      "\n",
      "O Alzheimer é uma doença neurodegenerativa progressiva que afeta o cérebro, causando problemas de memória, pensamento e comportamento. É a forma mais comum de demência e geralmente afeta pessoas idosas, mas também pode ocorrer em pessoas mais jovens. A doença de Alzheimer resulta na morte de células cerebrais e na perda de conexões entre elas, levando a sintomas como perda de memória, confusão, dificuldade de concentração, alterações de humor e personalidade, entre outros. É importante buscar orientação médica se houver suspeita de Alzheimer para um diagnóstico adequado e um plano de tratamento adequado.\n",
      "================================\u001b[1m Human Message \u001b[0m=================================\n",
      "Name: User\n",
      "\n",
      "quais os sintomas?\n",
      "==================================\u001b[1m Ai Message \u001b[0m==================================\n",
      "\n",
      "Os sintomas da doença de Alzheimer podem variar de pessoa para pessoa e progridem ao longo do tempo. Alguns dos sintomas comuns incluem:\n",
      "\n",
      "1. Perda de memória que afeta as atividades diárias.\n",
      "2. Dificuldade em realizar tarefas familiares.\n",
      "3. Confusão em relação ao tempo, lugar e pessoas.\n",
      "4. Dificuldade em encontrar palavras ou expressar pensamentos.\n",
      "5. Mudanças de humor e personalidade.\n",
      "6. Dificuldade em planejar e realizar tarefas complexas.\n",
      "7. Desorientação em relação a datas, estações e eventos.\n",
      "\n",
      "É importante observar qualquer mudança significativa no comportamento ou na cognição de um indivíduo e procurar orientação médica se houver suspeita de Alzheimer. Um diagnóstico precoce pode ajudar a gerenciar os sintomas e planejar o tratamento adequado.\n",
      "================================\u001b[1m Human Message \u001b[0m=================================\n",
      "Name: User\n",
      "\n",
      "Quem é a população mais atingida?\n",
      "==================================\u001b[1m Ai Message \u001b[0m==================================\n",
      "\n",
      "A doença de Alzheimer geralmente afeta pessoas idosas, sendo mais comum em indivíduos com mais de 65 anos. No entanto, a doença também pode ocorrer em pessoas mais jovens, conhecida como Alzheimer de início precoce. Mulheres têm uma maior prevalência de Alzheimer em comparação com os homens. Além disso, indivíduos com histórico familiar de Alzheimer têm um risco aumentado de desenvolver a doença.\n",
      "\n",
      "É importante estar ciente dos fatores de risco e dos sintomas da doença de Alzheimer, independentemente da idade, para buscar ajuda médica adequada e um diagnóstico precoce.\n",
      "================================\u001b[1m Human Message \u001b[0m=================================\n",
      "Name: User\n",
      "\n",
      "Quais perguntas te fiz?\n",
      "==================================\u001b[1m Ai Message \u001b[0m==================================\n",
      "\n",
      "Você me perguntou sobre o seu nome, o que é o Alzheimer, os sintomas da doença e qual é a população mais atingida pelo Alzheimer. Como mais posso te ajudar hoje?\n",
      "================================\u001b[1m Human Message \u001b[0m=================================\n",
      "Name: User\n",
      "\n",
      "Oi, quais perguntas te fiz?\n",
      "==================================\u001b[1m Ai Message \u001b[0m==================================\n",
      "\n",
      "Você me perguntou sobre o seu nome, o que é o Alzheimer, os sintomas da doença e qual é a população mais atingida pelo Alzheimer. Como mais posso te ajudar hoje?\n",
      "*********************************************************************************************************\n",
      "================================\u001b[1m Human Message \u001b[0m=================================\n",
      "Name: User\n",
      "\n",
      "Oi, meu nome é Marianna\n",
      "==================================\u001b[1m Ai Message \u001b[0m==================================\n",
      "\n",
      "Olá, Marianna! Como posso te ajudar hoje?\n",
      "================================\u001b[1m Human Message \u001b[0m=================================\n",
      "Name: User\n",
      "\n",
      "\n",
      "==================================\u001b[1m Ai Message \u001b[0m==================================\n",
      "\n",
      "Como posso te ajudar hoje?\n",
      "================================\u001b[1m Human Message \u001b[0m=================================\n",
      "Name: User\n",
      "\n",
      "Como é o meu nome?\n",
      "==================================\u001b[1m Ai Message \u001b[0m==================================\n",
      "\n",
      "Seu nome é Marianna. Como posso ajudar você, Marianna?\n",
      "================================\u001b[1m Human Message \u001b[0m=================================\n",
      "Name: User\n",
      "\n",
      "O que é o Alzheimer?\n",
      "==================================\u001b[1m Ai Message \u001b[0m==================================\n",
      "\n",
      "O Alzheimer é uma doença neurodegenerativa progressiva que afeta o cérebro, causando problemas de memória, pensamento e comportamento. É a forma mais comum de demência e geralmente afeta pessoas idosas, mas também pode ocorrer em pessoas mais jovens. A doença de Alzheimer resulta na morte de células cerebrais e na perda de conexões entre elas, levando a sintomas como perda de memória, confusão, dificuldade de concentração, alterações de humor e personalidade, entre outros. É importante buscar orientação médica se houver suspeita de Alzheimer para um diagnóstico adequado e um plano de tratamento adequado.\n",
      "================================\u001b[1m Human Message \u001b[0m=================================\n",
      "Name: User\n",
      "\n",
      "quais os sintomas?\n",
      "==================================\u001b[1m Ai Message \u001b[0m==================================\n",
      "\n",
      "Os sintomas da doença de Alzheimer podem variar de pessoa para pessoa e progridem ao longo do tempo. Alguns dos sintomas comuns incluem:\n",
      "\n",
      "1. Perda de memória que afeta as atividades diárias.\n",
      "2. Dificuldade em realizar tarefas familiares.\n",
      "3. Confusão em relação ao tempo, lugar e pessoas.\n",
      "4. Dificuldade em encontrar palavras ou expressar pensamentos.\n",
      "5. Mudanças de humor e personalidade.\n",
      "6. Dificuldade em planejar e realizar tarefas complexas.\n",
      "7. Desorientação em relação a datas, estações e eventos.\n",
      "\n",
      "É importante observar qualquer mudança significativa no comportamento ou na cognição de um indivíduo e procurar orientação médica se houver suspeita de Alzheimer. Um diagnóstico precoce pode ajudar a gerenciar os sintomas e planejar o tratamento adequado.\n",
      "================================\u001b[1m Human Message \u001b[0m=================================\n",
      "Name: User\n",
      "\n",
      "Quem é a população mais atingida?\n",
      "==================================\u001b[1m Ai Message \u001b[0m==================================\n",
      "\n",
      "A doença de Alzheimer geralmente afeta pessoas idosas, sendo mais comum em indivíduos com mais de 65 anos. No entanto, a doença também pode ocorrer em pessoas mais jovens, conhecida como Alzheimer de início precoce. Mulheres têm uma maior prevalência de Alzheimer em comparação com os homens. Além disso, indivíduos com histórico familiar de Alzheimer têm um risco aumentado de desenvolver a doença.\n",
      "\n",
      "É importante estar ciente dos fatores de risco e dos sintomas da doença de Alzheimer, independentemente da idade, para buscar ajuda médica adequada e um diagnóstico precoce.\n",
      "================================\u001b[1m Human Message \u001b[0m=================================\n",
      "Name: User\n",
      "\n",
      "Quais perguntas te fiz?\n",
      "==================================\u001b[1m Ai Message \u001b[0m==================================\n",
      "\n",
      "Você me perguntou sobre o seu nome, o que é o Alzheimer, os sintomas da doença e qual é a população mais atingida pelo Alzheimer. Como mais posso te ajudar hoje?\n",
      "================================\u001b[1m Human Message \u001b[0m=================================\n",
      "Name: User\n",
      "\n",
      "Oi, quais perguntas te fiz?\n",
      "==================================\u001b[1m Ai Message \u001b[0m==================================\n",
      "\n",
      "Você me perguntou sobre o seu nome, o que é o Alzheimer, os sintomas da doença e qual é a população mais atingida pelo Alzheimer. Como mais posso te ajudar hoje?\n",
      "================================\u001b[1m Human Message \u001b[0m=================================\n",
      "Name: User\n",
      "\n",
      "\n",
      "==================================\u001b[1m Ai Message \u001b[0m==================================\n",
      "\n",
      "Como posso te ajudar hoje?\n",
      "*********************************************************************************************************\n",
      "================================\u001b[1m Human Message \u001b[0m=================================\n",
      "Name: User\n",
      "\n",
      "Oi, meu nome é Marianna\n",
      "==================================\u001b[1m Ai Message \u001b[0m==================================\n",
      "\n",
      "Olá, Marianna! Como posso te ajudar hoje?\n",
      "================================\u001b[1m Human Message \u001b[0m=================================\n",
      "Name: User\n",
      "\n",
      "\n",
      "==================================\u001b[1m Ai Message \u001b[0m==================================\n",
      "\n",
      "Como posso te ajudar hoje?\n",
      "================================\u001b[1m Human Message \u001b[0m=================================\n",
      "Name: User\n",
      "\n",
      "Como é o meu nome?\n",
      "==================================\u001b[1m Ai Message \u001b[0m==================================\n",
      "\n",
      "Seu nome é Marianna. Como posso ajudar você, Marianna?\n",
      "================================\u001b[1m Human Message \u001b[0m=================================\n",
      "Name: User\n",
      "\n",
      "O que é o Alzheimer?\n",
      "==================================\u001b[1m Ai Message \u001b[0m==================================\n",
      "\n",
      "O Alzheimer é uma doença neurodegenerativa progressiva que afeta o cérebro, causando problemas de memória, pensamento e comportamento. É a forma mais comum de demência e geralmente afeta pessoas idosas, mas também pode ocorrer em pessoas mais jovens. A doença de Alzheimer resulta na morte de células cerebrais e na perda de conexões entre elas, levando a sintomas como perda de memória, confusão, dificuldade de concentração, alterações de humor e personalidade, entre outros. É importante buscar orientação médica se houver suspeita de Alzheimer para um diagnóstico adequado e um plano de tratamento adequado.\n",
      "================================\u001b[1m Human Message \u001b[0m=================================\n",
      "Name: User\n",
      "\n",
      "quais os sintomas?\n",
      "==================================\u001b[1m Ai Message \u001b[0m==================================\n",
      "\n",
      "Os sintomas da doença de Alzheimer podem variar de pessoa para pessoa e progridem ao longo do tempo. Alguns dos sintomas comuns incluem:\n",
      "\n",
      "1. Perda de memória que afeta as atividades diárias.\n",
      "2. Dificuldade em realizar tarefas familiares.\n",
      "3. Confusão em relação ao tempo, lugar e pessoas.\n",
      "4. Dificuldade em encontrar palavras ou expressar pensamentos.\n",
      "5. Mudanças de humor e personalidade.\n",
      "6. Dificuldade em planejar e realizar tarefas complexas.\n",
      "7. Desorientação em relação a datas, estações e eventos.\n",
      "\n",
      "É importante observar qualquer mudança significativa no comportamento ou na cognição de um indivíduo e procurar orientação médica se houver suspeita de Alzheimer. Um diagnóstico precoce pode ajudar a gerenciar os sintomas e planejar o tratamento adequado.\n",
      "================================\u001b[1m Human Message \u001b[0m=================================\n",
      "Name: User\n",
      "\n",
      "Quem é a população mais atingida?\n",
      "==================================\u001b[1m Ai Message \u001b[0m==================================\n",
      "\n",
      "A doença de Alzheimer geralmente afeta pessoas idosas, sendo mais comum em indivíduos com mais de 65 anos. No entanto, a doença também pode ocorrer em pessoas mais jovens, conhecida como Alzheimer de início precoce. Mulheres têm uma maior prevalência de Alzheimer em comparação com os homens. Além disso, indivíduos com histórico familiar de Alzheimer têm um risco aumentado de desenvolver a doença.\n",
      "\n",
      "É importante estar ciente dos fatores de risco e dos sintomas da doença de Alzheimer, independentemente da idade, para buscar ajuda médica adequada e um diagnóstico precoce.\n",
      "================================\u001b[1m Human Message \u001b[0m=================================\n",
      "Name: User\n",
      "\n",
      "Quais perguntas te fiz?\n",
      "==================================\u001b[1m Ai Message \u001b[0m==================================\n",
      "\n",
      "Você me perguntou sobre o seu nome, o que é o Alzheimer, os sintomas da doença e qual é a população mais atingida pelo Alzheimer. Como mais posso te ajudar hoje?\n",
      "================================\u001b[1m Human Message \u001b[0m=================================\n",
      "Name: User\n",
      "\n",
      "Oi, quais perguntas te fiz?\n",
      "==================================\u001b[1m Ai Message \u001b[0m==================================\n",
      "\n",
      "Você me perguntou sobre o seu nome, o que é o Alzheimer, os sintomas da doença e qual é a população mais atingida pelo Alzheimer. Como mais posso te ajudar hoje?\n",
      "================================\u001b[1m Human Message \u001b[0m=================================\n",
      "Name: User\n",
      "\n",
      "\n",
      "==================================\u001b[1m Ai Message \u001b[0m==================================\n",
      "\n",
      "Como posso te ajudar hoje?\n",
      "================================\u001b[1m Human Message \u001b[0m=================================\n",
      "Name: User\n",
      "\n",
      "Qual é o meu nome?\n",
      "==================================\u001b[1m Ai Message \u001b[0m==================================\n",
      "\n",
      "Seu nome é Marianna. Como posso te ajudar, Marianna?\n",
      "*********************************************************************************************************\n"
     ]
    }
   ],
   "source": [
    "config = {\"configurable\": {\"thread_id\": \"1\"}}\n",
    "chatbot_loop(chatbot=chatbot_complete.agent_graph, config=config)"
   ]
  }
 ],
 "metadata": {
  "kernelspec": {
   "display_name": "Python 3 (ipykernel)",
   "language": "python",
   "name": "python3"
  },
  "language_info": {
   "codemirror_mode": {
    "name": "ipython",
    "version": 3
   },
   "file_extension": ".py",
   "mimetype": "text/x-python",
   "name": "python",
   "nbconvert_exporter": "python",
   "pygments_lexer": "ipython3",
   "version": "3.10.0"
  }
 },
 "nbformat": 4,
 "nbformat_minor": 4
}
